{
 "cells": [
  {
   "cell_type": "markdown",
   "metadata": {},
   "source": [
    "# H1-B Visa Data Exploration\n",
    "\n",
    "[link to data set](https://public.enigma.com/datasets/h-1-b-visa-applications-2014/e1054732-9f56-4c5c-883f-5473f3a2d3d8)\n",
    "\n",
    "First, the most basic step, I'll load the dataset into a pandas dataframe and understand the labels since they differ from the web interface a bit."
   ]
  },
  {
   "cell_type": "code",
   "execution_count": 1,
   "metadata": {},
   "outputs": [
    {
     "name": "stdout",
     "output_type": "stream",
     "text": [
      "['lca_case_number', 'status', 'lca_case_submit', 'decision_date', 'visa_class', 'lca_case_employment_start_date', 'lca_case_employment_end_date', 'lca_case_employer_name', 'lca_case_employer_address', 'lca_case_employer_city', 'lca_case_employer_state', 'lca_case_employer_postal_code', 'lca_case_soc_code', 'lca_case_soc_name', 'lca_case_job_title', 'lca_case_wage_rate_from', 'lca_case_wage_rate_to', 'lca_case_wage_rate_unit', 'full_time_pos', 'total_workers', 'lca_case_workloc1_city', 'lca_case_workloc1_state', 'pw_1', 'pw_unit_1', 'pw_source_1', 'other_wage_source_1', 'yr_source_pub_1', 'lca_case_workloc2_city', 'lca_case_workloc2_state', 'pw_2', 'pw_unit_2', 'pw_source_2', 'other_wage_source_2', 'yr_source_pub_2', 'lca_case_naics_code']\n"
     ]
    },
    {
     "data": {
      "text/html": [
       "<div>\n",
       "<style>\n",
       "    .dataframe thead tr:only-child th {\n",
       "        text-align: right;\n",
       "    }\n",
       "\n",
       "    .dataframe thead th {\n",
       "        text-align: left;\n",
       "    }\n",
       "\n",
       "    .dataframe tbody tr th {\n",
       "        vertical-align: top;\n",
       "    }\n",
       "</style>\n",
       "<table border=\"1\" class=\"dataframe\">\n",
       "  <thead>\n",
       "    <tr style=\"text-align: right;\">\n",
       "      <th></th>\n",
       "      <th>lca_case_number</th>\n",
       "      <th>status</th>\n",
       "      <th>lca_case_submit</th>\n",
       "      <th>decision_date</th>\n",
       "      <th>visa_class</th>\n",
       "      <th>lca_case_employment_start_date</th>\n",
       "      <th>lca_case_employment_end_date</th>\n",
       "      <th>lca_case_employer_name</th>\n",
       "      <th>lca_case_employer_address</th>\n",
       "      <th>lca_case_employer_city</th>\n",
       "      <th>...</th>\n",
       "      <th>other_wage_source_1</th>\n",
       "      <th>yr_source_pub_1</th>\n",
       "      <th>lca_case_workloc2_city</th>\n",
       "      <th>lca_case_workloc2_state</th>\n",
       "      <th>pw_2</th>\n",
       "      <th>pw_unit_2</th>\n",
       "      <th>pw_source_2</th>\n",
       "      <th>other_wage_source_2</th>\n",
       "      <th>yr_source_pub_2</th>\n",
       "      <th>lca_case_naics_code</th>\n",
       "    </tr>\n",
       "  </thead>\n",
       "  <tbody>\n",
       "    <tr>\n",
       "      <th>0</th>\n",
       "      <td>I-200-09106-546545</td>\n",
       "      <td>CERTIFIED-WITHDRAWN</td>\n",
       "      <td>2013-01-18</td>\n",
       "      <td>2014-09-29</td>\n",
       "      <td>H-1B</td>\n",
       "      <td>2013-02-01</td>\n",
       "      <td>2016-02-01</td>\n",
       "      <td>TEXAS STATE UNIVERSITY-SAN MARCOS</td>\n",
       "      <td>601 UNIVERSITY DRIVE</td>\n",
       "      <td>SAN MARCOS</td>\n",
       "      <td>...</td>\n",
       "      <td>OFLC ONLINE DATA CENTER</td>\n",
       "      <td>2013.0</td>\n",
       "      <td>ST. LOUIS</td>\n",
       "      <td>MO</td>\n",
       "      <td>49566.0</td>\n",
       "      <td>Year</td>\n",
       "      <td>OES</td>\n",
       "      <td>OFLC ONLINE DATA CENTER</td>\n",
       "      <td>OFLC ONLINE DATA CENTER</td>\n",
       "      <td>611310.0</td>\n",
       "    </tr>\n",
       "    <tr>\n",
       "      <th>1</th>\n",
       "      <td>I-200-09162-143337</td>\n",
       "      <td>CERTIFIED</td>\n",
       "      <td>2014-03-17</td>\n",
       "      <td>2014-03-21</td>\n",
       "      <td>H-1B</td>\n",
       "      <td>2014-09-15</td>\n",
       "      <td>2017-09-15</td>\n",
       "      <td>EYE SPECIALISTS OF INDIANA, P.C.</td>\n",
       "      <td>1901 N. MERIDIAN ST.</td>\n",
       "      <td>INDIANAPOLIS</td>\n",
       "      <td>...</td>\n",
       "      <td>OFLC ONLINE DATA CENTER</td>\n",
       "      <td>2013.0</td>\n",
       "      <td>INDIANAPOLIS</td>\n",
       "      <td>IN</td>\n",
       "      <td>64251.0</td>\n",
       "      <td>Year</td>\n",
       "      <td>Other</td>\n",
       "      <td>OFLC ONLINE DATA CENTER</td>\n",
       "      <td>OFLC ONLINE DATA CENTER</td>\n",
       "      <td>621320.0</td>\n",
       "    </tr>\n",
       "    <tr>\n",
       "      <th>2</th>\n",
       "      <td>I-200-09182-550211</td>\n",
       "      <td>DENIED</td>\n",
       "      <td>2014-03-14</td>\n",
       "      <td>2014-03-20</td>\n",
       "      <td>H-1B</td>\n",
       "      <td>2014-04-01</td>\n",
       "      <td>2015-04-01</td>\n",
       "      <td>LHB, INC.</td>\n",
       "      <td>21 WEST SUPERIOR STREET</td>\n",
       "      <td>DULUTH</td>\n",
       "      <td>...</td>\n",
       "      <td>OFLIC ONLINE</td>\n",
       "      <td>2014.0</td>\n",
       "      <td>NaN</td>\n",
       "      <td>NaN</td>\n",
       "      <td>NaN</td>\n",
       "      <td>NaN</td>\n",
       "      <td>NaN</td>\n",
       "      <td>NaN</td>\n",
       "      <td>NaN</td>\n",
       "      <td>541330.0</td>\n",
       "    </tr>\n",
       "    <tr>\n",
       "      <th>3</th>\n",
       "      <td>I-200-09193-873099</td>\n",
       "      <td>CERTIFIED</td>\n",
       "      <td>2014-03-01</td>\n",
       "      <td>2014-03-06</td>\n",
       "      <td>H-1B</td>\n",
       "      <td>2014-08-28</td>\n",
       "      <td>2017-08-27</td>\n",
       "      <td>WAM USA, INC.</td>\n",
       "      <td>75 BOULDERBROOK CIRCLE</td>\n",
       "      <td>LAWRENCEVILLE</td>\n",
       "      <td>...</td>\n",
       "      <td>OFLC ONLINE DATA CENTER</td>\n",
       "      <td>2014.0</td>\n",
       "      <td>NaN</td>\n",
       "      <td>NaN</td>\n",
       "      <td>NaN</td>\n",
       "      <td>NaN</td>\n",
       "      <td>NaN</td>\n",
       "      <td>NaN</td>\n",
       "      <td>NaN</td>\n",
       "      <td>333922.0</td>\n",
       "    </tr>\n",
       "    <tr>\n",
       "      <th>4</th>\n",
       "      <td>I-200-09197-120609</td>\n",
       "      <td>CERTIFIED-WITHDRAWN</td>\n",
       "      <td>2014-03-10</td>\n",
       "      <td>2014-03-17</td>\n",
       "      <td>H-1B</td>\n",
       "      <td>2014-09-01</td>\n",
       "      <td>2017-09-01</td>\n",
       "      <td>DFUSE TECHNOLOGIES, INC.</td>\n",
       "      <td>20143 DESERT FOREST DRIVE</td>\n",
       "      <td>ASHBURN</td>\n",
       "      <td>...</td>\n",
       "      <td>OFLC ONLINE DATA CENTER</td>\n",
       "      <td>2013.0</td>\n",
       "      <td>NaN</td>\n",
       "      <td>NaN</td>\n",
       "      <td>NaN</td>\n",
       "      <td>NaN</td>\n",
       "      <td>NaN</td>\n",
       "      <td>NaN</td>\n",
       "      <td>NaN</td>\n",
       "      <td>541519.0</td>\n",
       "    </tr>\n",
       "  </tbody>\n",
       "</table>\n",
       "<p>5 rows × 35 columns</p>\n",
       "</div>"
      ],
      "text/plain": [
       "      lca_case_number               status lca_case_submit decision_date  \\\n",
       "0  I-200-09106-546545  CERTIFIED-WITHDRAWN      2013-01-18    2014-09-29   \n",
       "1  I-200-09162-143337            CERTIFIED      2014-03-17    2014-03-21   \n",
       "2  I-200-09182-550211               DENIED      2014-03-14    2014-03-20   \n",
       "3  I-200-09193-873099            CERTIFIED      2014-03-01    2014-03-06   \n",
       "4  I-200-09197-120609  CERTIFIED-WITHDRAWN      2014-03-10    2014-03-17   \n",
       "\n",
       "  visa_class lca_case_employment_start_date lca_case_employment_end_date  \\\n",
       "0       H-1B                     2013-02-01                   2016-02-01   \n",
       "1       H-1B                     2014-09-15                   2017-09-15   \n",
       "2       H-1B                     2014-04-01                   2015-04-01   \n",
       "3       H-1B                     2014-08-28                   2017-08-27   \n",
       "4       H-1B                     2014-09-01                   2017-09-01   \n",
       "\n",
       "              lca_case_employer_name  lca_case_employer_address  \\\n",
       "0  TEXAS STATE UNIVERSITY-SAN MARCOS       601 UNIVERSITY DRIVE   \n",
       "1   EYE SPECIALISTS OF INDIANA, P.C.       1901 N. MERIDIAN ST.   \n",
       "2                          LHB, INC.    21 WEST SUPERIOR STREET   \n",
       "3                      WAM USA, INC.     75 BOULDERBROOK CIRCLE   \n",
       "4           DFUSE TECHNOLOGIES, INC.  20143 DESERT FOREST DRIVE   \n",
       "\n",
       "  lca_case_employer_city         ...               other_wage_source_1  \\\n",
       "0             SAN MARCOS         ...           OFLC ONLINE DATA CENTER   \n",
       "1           INDIANAPOLIS         ...           OFLC ONLINE DATA CENTER   \n",
       "2                 DULUTH         ...                      OFLIC ONLINE   \n",
       "3          LAWRENCEVILLE         ...           OFLC ONLINE DATA CENTER   \n",
       "4                ASHBURN         ...           OFLC ONLINE DATA CENTER   \n",
       "\n",
       "  yr_source_pub_1 lca_case_workloc2_city lca_case_workloc2_state     pw_2  \\\n",
       "0          2013.0              ST. LOUIS                      MO  49566.0   \n",
       "1          2013.0           INDIANAPOLIS                      IN  64251.0   \n",
       "2          2014.0                    NaN                     NaN      NaN   \n",
       "3          2014.0                    NaN                     NaN      NaN   \n",
       "4          2013.0                    NaN                     NaN      NaN   \n",
       "\n",
       "   pw_unit_2  pw_source_2      other_wage_source_2          yr_source_pub_2  \\\n",
       "0       Year          OES  OFLC ONLINE DATA CENTER  OFLC ONLINE DATA CENTER   \n",
       "1       Year        Other  OFLC ONLINE DATA CENTER  OFLC ONLINE DATA CENTER   \n",
       "2        NaN          NaN                      NaN                      NaN   \n",
       "3        NaN          NaN                      NaN                      NaN   \n",
       "4        NaN          NaN                      NaN                      NaN   \n",
       "\n",
       "   lca_case_naics_code  \n",
       "0             611310.0  \n",
       "1             621320.0  \n",
       "2             541330.0  \n",
       "3             333922.0  \n",
       "4             541519.0  \n",
       "\n",
       "[5 rows x 35 columns]"
      ]
     },
     "execution_count": 1,
     "metadata": {},
     "output_type": "execute_result"
    }
   ],
   "source": [
    "import numpy as np\n",
    "import pandas as pd\n",
    "import matplotlib.pyplot as plt\n",
    "import seaborn as sns\n",
    "\n",
    "df = pd.read_csv('C:\\\\Users\\\\Dat Tien Hoang\\\\Downloads\\\\db246968-e567-442f-8108-b86a280107d3.csv')\n",
    "print list(df.columns)\n",
    "df.head()"
   ]
  },
  {
   "cell_type": "markdown",
   "metadata": {},
   "source": [
    "I realize that employers can file for many workers simultaneously, so to get a count by companies, I have to sum over rows grouped by employer names."
   ]
  },
  {
   "cell_type": "code",
   "execution_count": 2,
   "metadata": {},
   "outputs": [
    {
     "data": {
      "text/plain": [
       "lca_case_employer_name\n",
       "PRICEWATERHOUSECOOPERS, LLP             5735.0\n",
       "ERNST & YOUNG U.S. LLP                  2467.0\n",
       "DELOITTE CONSULTING LLP                 2260.0\n",
       "MPHASIS CORPORATION                     1736.0\n",
       "DELOITTE & TOUCHE LLP                   1600.0\n",
       "WIPRO LIMITED                           1150.0\n",
       "CAPGEMINI FINANCIAL SERVICES USA INC    1124.0\n",
       "TATA CONSULTANCY SERVICES LIMITED        915.0\n",
       "IGATE TECHNOLOGIES INC.                  817.0\n",
       "JPMORGAN CHASE & CO.                     627.0\n",
       "Name: total_workers, dtype: float64"
      ]
     },
     "execution_count": 2,
     "metadata": {},
     "output_type": "execute_result"
    }
   ],
   "source": [
    "df[df['lca_case_workloc1_city'] == 'NEW YORK'].groupby('lca_case_employer_name')['total_workers'].sum().sort_values(ascending=False)[0:10]"
   ]
  },
  {
   "cell_type": "markdown",
   "metadata": {},
   "source": [
    "This was a good first pass at getting the top H-1B sponsors in New York City. I wondered though, about the consistency in the company names in the data. I scanned the dataframe for entries within the top 10 with portions of the company's name that I thought would be good consensus strings for that company. "
   ]
  },
  {
   "cell_type": "code",
   "execution_count": 3,
   "metadata": {},
   "outputs": [
    {
     "name": "stdout",
     "output_type": "stream",
     "text": [
      "PRICEWATERHOUSECOOPERS, LLP                      836\n",
      "PRICEWATERHOUSECOOPERS LLP                        80\n",
      "PRICELINE.COM                                     17\n",
      "PRICELINE.COM LLC                                 17\n",
      "T. ROWE PRICE ASSOCIATES, INC.                    11\n",
      "PRICEWATERHOUSECOOPERS ADVISORY LLC                6\n",
      "PRICETRACE LLC                                     5\n",
      "FISHER-PRICE, INC.                                 5\n",
      "PRICESPECTIVE LLC                                  3\n",
      "PRICE FOR PROFIT                                   3\n",
      "PRICE STATS LLC                                    2\n",
      "VEDDER PRICE P.C.                                  2\n",
      "PRICE AND ASSOCIATES CPAS, LLC                     2\n",
      "SCHWEICHLER PRICE MULLARKEY & BARRY, INC.          2\n",
      "PRICE GREGORY INTERNATIONAL                        1\n",
      "BEST PRICE MATTRESS, INC.                          1\n",
      "PRICE BENOWITZ, LLP                                1\n",
      "PRICE KONG & CO., CPA'S, P.A.                      1\n",
      "PRICE INDUSTRIES, INC.                             1\n",
      "WALPRICE, INC                                      1\n",
      "OIL PRICE INFORMATION SERVICE, LLC                 1\n",
      "PRICESMART, INC.                                   1\n",
      "PRICE ENGINEERING COMPANY, INC.                    1\n",
      "PRICE-LESS INKJET CARTRIDGE CO.                    1\n",
      "IRA B. PRICE P.A.                                  1\n",
      "PRICE PAIGE & COMPANY                              1\n",
      "PRICEWATERHOUSECOOPERS                             1\n",
      "PRICE PAIGE & COMPANY ACCOUNTANCY CORPORATION      1\n",
      "J. PRICE ARCHITECTURE, INC.                        1\n",
      "GERARDO P PRICE PC                                 1\n",
      "Name: lca_case_employer_name, dtype: int64\n",
      "ERNST & YOUNG U.S. LLP                             3937\n",
      "ALLIANCEBERNSTEIN L.P.                               51\n",
      "ERNST & YOUNG LLP (EY GUAM)                          10\n",
      "ERNST &AMP; YOUNG U.S. LLP                            8\n",
      "ERNST &YOUNG U.S. LLP                                 6\n",
      "BERNSTEIN & PINCHUK, LLP                              3\n",
      "MARCUM BERNSTEIN & PINCHUK, LLP                       2\n",
      "MARCUM BERNSTEIN & PINCHUK LLP                        2\n",
      "THE LAW OFFICES OF SPAR & BERNSTEIN, P.C.             1\n",
      "CLINE BETTRIDGE BERNSTEIN LIGHTING DESIGN, INC.       1\n",
      "ERNST & YOUNG (CNMI), INC.                            1\n",
      "ERNST; YOUNG U.S. LLP                                 1\n",
      "ERNST YOUNG U.S. LLP                                  1\n",
      "BERNSTEIN ROSEN & COMPANY CPAS PC                     1\n",
      "ERNST & YOUNG LLP (CNMI), INC.                        1\n",
      "ROTHWELL, FIGG, ERNST & MANBECK PC                    1\n",
      "Name: lca_case_employer_name, dtype: int64\n",
      "DELOITTE CONSULTING LLP                             6995\n",
      "DELOITTE & TOUCHE LLP                               1620\n",
      "DELOITTE TAX LLP                                     439\n",
      "DELOITTE TRANSACTIONS AND BUSINESS ANALYTICS LLP     101\n",
      "DELOITTE &AMP; TOUCHE LLP                             91\n",
      "DELOITTE FINANCIAL ADVISORY SERVICES LLP              34\n",
      "DELOITTE SERVICES LP                                  23\n",
      "DELOITTE TOUCHE TOHMATSU SERVICES, INC.               20\n",
      "DELOITTE CONSULTING OVERSEAS PROJECTS LLC             15\n",
      "DELOITTE LLP                                          11\n",
      "DELOITTE &TOUCHE LLP                                   6\n",
      "DELOITTE MARKETPOINT LLC                               2\n",
      "DELOITTE TOUCHE LLP                                    2\n",
      "DELOITTE CORPORATE FINANCE LLC                         2\n",
      "DELOITTE ANALYTICS LLC                                 2\n",
      "DELOITTE CONSULTING OVERSEA PROJECTS LLC               1\n",
      "DELOITTE &; TOUCHE LLP                                 1\n",
      "DELOITTECONSULTING LLP                                 1\n",
      "DELOITTE CONSULTING OVERSEAS PROJECTS                  1\n",
      "Name: lca_case_employer_name, dtype: int64\n",
      "MPHASIS CORPORATION                     945\n",
      "EMPHASIS SOFTWARE DEVELOPMENT LLC         9\n",
      "EMPHASIS SOFTWARE DEVELOPMENT, INC.       4\n",
      "MPHASIS INFRASTRUCTURE SERVICES, INC      4\n",
      "MPHASIS LIMITED                           3\n",
      "Name: lca_case_employer_name, dtype: int64\n",
      "DELOITTE & TOUCHE LLP                      1620\n",
      "DELOITTE &AMP; TOUCHE LLP                    91\n",
      "DELOITTE TOUCHE TOHMATSU SERVICES, INC.      20\n",
      "DELOITTE &TOUCHE LLP                          6\n",
      "DELOITTE TOUCHE LLP                           2\n",
      "ETOUCHES, INC.                                2\n",
      "DELOITTE &; TOUCHE LLP                        1\n",
      "Name: lca_case_employer_name, dtype: int64\n",
      "WIPRO LIMITED    8323\n",
      "WIPRO LTD           1\n",
      "Name: lca_case_employer_name, dtype: int64\n",
      "CAPGEMINI FINANCIAL SERVICES USA INC                  1184\n",
      "CAPGEMINI U.S. LLC                                     841\n",
      "CAPGEMINI AMERICA, INC.                                124\n",
      "CAPGEMINI FINANCIAL SERVICES USA INC. (LEGACY KANB     113\n",
      "CAPGEMINI US LLC                                        40\n",
      "CAPGEMINI GOVERNMENT SOLUTIONS LLC                      17\n",
      "CAPGEMINI FINANCIAL SERVICES USA INC.                    3\n",
      "CAPGEMINI BUSINESS SERVICES LLC                          1\n",
      "Name: lca_case_employer_name, dtype: int64\n",
      "TATA CONSULTANCY SERVICES LIMITED            14038\n",
      "TATA TECHNOLOGIES, INC.                         93\n",
      "TATA ELXSI LTD.                                 19\n",
      "TATA COMMUNICATIONS (AMERICA) INC.              13\n",
      "TATA AUTOCOMP SYSTEMS LIMITED                   13\n",
      "TATA INTERACTIVE SYSTEMS                         5\n",
      "TATA AMERICA INTERNATIONAL CORPORATION           3\n",
      "DATATAMER, INC.                                  3\n",
      "STATACORP, LP                                    2\n",
      "TATA ELXSI LTD                                   1\n",
      "TATAS NATURAL ALCHEMY LLC                        1\n",
      "WILLIAM S SILVER MD & ERIC TATAR MDPC            1\n",
      "TATA CHEMICALS (SODA ASH) PARTNERS               1\n",
      "TATA COMMUNICATIONS (AMERICA), INC.              1\n",
      "WILLIAM S SILVER MD &AMP; ERIC TATAR MDPC        1\n",
      "TATA STEEL INTERNATIONAL (AMERICAS) INC.         1\n",
      "Name: lca_case_employer_name, dtype: int64\n",
      "IGATE TECHNOLOGIES INC.                     3108\n",
      "IGATE GLOBAL SOLUTIONS, AN IGATE COMPANY       2\n",
      "Name: lca_case_employer_name, dtype: int64\n",
      "JPMORGAN CHASE & CO.                          1442\n",
      "MORGAN STANLEY & CO. LLC                       469\n",
      "JPMORGAN CHASE &AMP; CO.                       112\n",
      "MORGAN STANLEY SMITH BARNEY LLC                 85\n",
      "MORGAN STANLEY & CO LLC                         40\n",
      "JPMORGAN CHASE & CO                             20\n",
      "MORGAN STANLEY INVESTMENT MANAGEMENT, INC.      16\n",
      "MORGAN STANLEY FUND SERVICES INC.               10\n",
      "MORGAN STANLEY INVESTMENT MANAGEMENT INC.        7\n",
      "MORGAN MEMORIAL HOSPITAL                         7\n",
      "MORGAN STANLEY CAPITAL GROUP INC.                7\n",
      "MORGAN STANLEY BANK NA                           6\n",
      "MORGAN TRUCK BODY LLC                            5\n",
      "MORGAN STANLEY &AMP; CO LLC                      5\n",
      "MORGAN STATE UNIVERSITY                          4\n",
      "MORGAN STANLEY SMITH BARNEY, LLC                 4\n",
      "JPMORGAN CHASE CO.                               4\n",
      "MORGAN, LEWIS & BOCKIUS LLP                      3\n",
      "MORGAN STANLEY BANK, N.A.                        2\n",
      "HH HEALTH SYSTEM - MORGAN, LLC                   2\n",
      "MORGAN STANLEY & CO, LLC                         2\n",
      "THE MORGANTI GROUP, INC.                         2\n",
      "MORGAN STANLEY BANK                              2\n",
      "MORGAN PROPERTIES PAYROLL SERVICE INC.           2\n",
      "MORGAN STANLEY &AMP; CO. LLC                     2\n",
      "MORGAN CLARKE ENTERPRISES                        2\n",
      "MORGAN DEMPSEY CAPITAL MANAGEMENT LLC            2\n",
      "HILL, MORGAN AND ASSOCIATES, LLP                 1\n",
      "MORGAN STANLEY INVESTMENT MANAGEMENT, INC        1\n",
      "MORGAN STANLEY PRIVATE BANK NA                   1\n",
      "JPMORGAN CHASE &AMP; CO                          1\n",
      "WILSONMORGAN LLP                                 1\n",
      "MORGAN STANLEY SMITH BARNEY                      1\n",
      "JPMORGAN CHASE &CO.                              1\n",
      "MORGAN JOSEPH TRIARTISAN LLC                     1\n",
      "MORGANS HOTEL GROUP MANAGEMENT LLC               1\n",
      "HUSELTON, MORGAN & MAULTSBY, PC                  1\n",
      "MORGAN STANLEY & CO., LLC                        1\n",
      "MORGANE LE FAY                                   1\n",
      "MORGAN STANLEY FUND SERVICES INC                 1\n",
      "MORGAN HILL UNIFIED SCHOOL DISTRICT              1\n",
      "Name: lca_case_employer_name, dtype: int64\n"
     ]
    }
   ],
   "source": [
    "print (df[df['lca_case_employer_name'].str.contains('PRICE', case=False, na=False)])['lca_case_employer_name'].value_counts()\n",
    "print (df[df['lca_case_employer_name'].str.contains('ERNST', case=False, na=False)])['lca_case_employer_name'].value_counts()\n",
    "print (df[df['lca_case_employer_name'].str.contains('DELOITTE', case=False, na=False)])['lca_case_employer_name'].value_counts()\n",
    "print (df[df['lca_case_employer_name'].str.contains('MPHASIS', case=False, na=False)])['lca_case_employer_name'].value_counts()\n",
    "print (df[df['lca_case_employer_name'].str.contains('TOUCHE', case=False, na=False)])['lca_case_employer_name'].value_counts()\n",
    "print (df[df['lca_case_employer_name'].str.contains('WIPRO', case=False, na=False)])['lca_case_employer_name'].value_counts()\n",
    "print (df[df['lca_case_employer_name'].str.contains('CAPGEMINI', case=False, na=False)])['lca_case_employer_name'].value_counts()\n",
    "print (df[df['lca_case_employer_name'].str.contains('TATA', case=False, na=False)])['lca_case_employer_name'].value_counts()\n",
    "print (df[df['lca_case_employer_name'].str.contains('IGATE', case=False, na=False)])['lca_case_employer_name'].value_counts()\n",
    "print (df[df['lca_case_employer_name'].str.contains('MORGAN', case=False, na=False)])['lca_case_employer_name'].value_counts()"
   ]
  },
  {
   "cell_type": "markdown",
   "metadata": {},
   "source": [
    "There are quite a few variations of these top companies. This is an easy, yet tedious fix---I just have to reassign the labels that I picked out by eye. I had some difficulty however, since in some cases, it was unclear which entities should in fact be identical. For example, I could not tell the extent to which 'DELOITTE SERVICES LP' should be considered separately from 'DELOITTE CONSULTING LLP' (similarly, I get confused at my current company where my division is technically a separate legal entity though integrated with the parent company...). For this exercise, I only reassign small typos because I want to avoid making assumptions without further input from experts. \n",
    "\n",
    "Because of the time limitation, I only run this correction for the top 10 employers in New York City. In general, the ranking of employers is not expected to change much since in most cases only a small percentage of the company names are mismatched."
   ]
  },
  {
   "cell_type": "code",
   "execution_count": 4,
   "metadata": {
    "collapsed": true
   },
   "outputs": [],
   "source": [
    "df.loc[(df['lca_case_employer_name'] == 'PRICEWATERHOUSECOOPERS LLP') &\n",
    "       (df['lca_case_employer_name'] == 'PRICEWATERHOUSECOOPERS'),\n",
    "       'lca_case_employer_name'] = 'PRICEWATERHOUSECOOPERS, LLP'\n",
    "   \n",
    "df.loc[(df['lca_case_employer_name'] == 'ERNST &AMP; YOUNG U.S. LLP') &\n",
    "       (df['lca_case_employer_name'] == 'ERNST &AMP; YOUNG U.S. LLP') &\n",
    "       (df['lca_case_employer_name'] == 'ERNST &YOUNG U.S. LLP') &\n",
    "       (df['lca_case_employer_name'] == 'ERNST; YOUNG U.S. LLP') &\n",
    "       (df['lca_case_employer_name'] == 'ERNST YOUNG U.S. LLP'), \n",
    "       'lca_case_employer_name'] = 'ERNST & YOUNG U.S. LLP'\n",
    "\n",
    "df.loc[(df['lca_case_employer_name'] == 'DELOITTECONSULTING LLP'), \n",
    "       'lca_case_employer_name'] = 'DELOITTE CONSULTING LLP'\n",
    "\n",
    "df.loc[(df['lca_case_employer_name'] == 'DELOITTE &AMP; TOUCHE LLP') &\n",
    "       (df['lca_case_employer_name'] == 'DELOITTE &TOUCHE LLP') &\n",
    "       (df['lca_case_employer_name'] == 'DELOITTE TOUCHE LLP') &\n",
    "       (df['lca_case_employer_name'] == 'DELOITTE &; TOUCHE LLP'), \n",
    "       'lca_case_employer_name'] = 'DELOITTE & TOUCHE LLP'\n",
    "\n",
    "df.loc[(df['lca_case_employer_name'] == 'WIPRO LTD'), \n",
    "       'lca_case_employer_name'] = 'WIPRO LIMITED'\n",
    "\n",
    "df.loc[(df['lca_case_employer_name'] == 'CAPGEMINI FINANCIAL SERVICES USA INC.'), \n",
    "       'lca_case_employer_name'] = 'CAPGEMINI FINANCIAL SERVICES USA INC'\n",
    "\n",
    "df.loc[(df['lca_case_employer_name'] == 'JPMORGAN CHASE &AMP; CO.') &\n",
    "       (df['lca_case_employer_name'] == 'JPMORGAN CHASE & CO') &\n",
    "       (df['lca_case_employer_name'] == 'JPMORGAN CHASE CO.') &\n",
    "       (df['lca_case_employer_name'] == 'JPMORGAN CHASE &AMP; CO') &\n",
    "       (df['lca_case_employer_name'] == 'JPMORGAN CHASE &CO.'), \n",
    "       'lca_case_employer_name'] = 'JPMORGAN CHASE & CO.'"
   ]
  },
  {
   "cell_type": "markdown",
   "metadata": {},
   "source": [
    "Now I'll quickly update the counts after fixing the employer names..."
   ]
  },
  {
   "cell_type": "code",
   "execution_count": 5,
   "metadata": {},
   "outputs": [
    {
     "data": {
      "text/plain": [
       "lca_case_employer_name\n",
       "ERNST & YOUNG U.S. LLP                  2467.0\n",
       "DELOITTE CONSULTING LLP                 2260.0\n",
       "MPHASIS CORPORATION                     1736.0\n",
       "DELOITTE & TOUCHE LLP                   1600.0\n",
       "WIPRO LIMITED                           1150.0\n",
       "CAPGEMINI FINANCIAL SERVICES USA INC    1125.0\n",
       "TATA CONSULTANCY SERVICES LIMITED        915.0\n",
       "IGATE TECHNOLOGIES INC.                  817.0\n",
       "JPMORGAN CHASE & CO.                     627.0\n",
       "Name: total_workers, dtype: float64"
      ]
     },
     "execution_count": 5,
     "metadata": {},
     "output_type": "execute_result"
    }
   ],
   "source": [
    "df[df['lca_case_workloc1_city'] == 'NEW YORK'].groupby('lca_case_employer_name')['total_workers'].sum().sort_values(ascending=False)[1:10]"
   ]
  },
  {
   "cell_type": "markdown",
   "metadata": {},
   "source": [
    "As expected, the ranking doesn't change much as only one company changed rank (Deloitte and Touche LLP)."
   ]
  },
  {
   "cell_type": "markdown",
   "metadata": {},
   "source": [
    "Next, I want to compare the pay for H-1B workers in New York City and Mountain View. I first realized that there are different units for pay (hourly, monthly, weekly, bi-weekly). I first wanted to standardize all of these to an annual pay scale. For this, I performed a naive assume assuming a 40hr work week, for 52 weeks a year. In addition, in some cases, the worker's pay exists within a range. I naively average the pay range since I have no prior knowledge about the most likely value from the range."
   ]
  },
  {
   "cell_type": "code",
   "execution_count": 6,
   "metadata": {},
   "outputs": [
    {
     "data": {
      "text/html": [
       "<div>\n",
       "<style>\n",
       "    .dataframe thead tr:only-child th {\n",
       "        text-align: right;\n",
       "    }\n",
       "\n",
       "    .dataframe thead th {\n",
       "        text-align: left;\n",
       "    }\n",
       "\n",
       "    .dataframe tbody tr th {\n",
       "        vertical-align: top;\n",
       "    }\n",
       "</style>\n",
       "<table border=\"1\" class=\"dataframe\">\n",
       "  <thead>\n",
       "    <tr style=\"text-align: right;\">\n",
       "      <th></th>\n",
       "      <th>lca_case_number</th>\n",
       "      <th>status</th>\n",
       "      <th>lca_case_submit</th>\n",
       "      <th>decision_date</th>\n",
       "      <th>visa_class</th>\n",
       "      <th>lca_case_employment_start_date</th>\n",
       "      <th>lca_case_employment_end_date</th>\n",
       "      <th>lca_case_employer_name</th>\n",
       "      <th>lca_case_employer_address</th>\n",
       "      <th>lca_case_employer_city</th>\n",
       "      <th>...</th>\n",
       "      <th>lca_case_workloc2_state</th>\n",
       "      <th>pw_2</th>\n",
       "      <th>pw_unit_2</th>\n",
       "      <th>pw_source_2</th>\n",
       "      <th>other_wage_source_2</th>\n",
       "      <th>yr_source_pub_2</th>\n",
       "      <th>lca_case_naics_code</th>\n",
       "      <th>AnnualizedPay1</th>\n",
       "      <th>AnnualizedPay2</th>\n",
       "      <th>AnnualizedPay</th>\n",
       "    </tr>\n",
       "  </thead>\n",
       "  <tbody>\n",
       "    <tr>\n",
       "      <th>0</th>\n",
       "      <td>I-200-09106-546545</td>\n",
       "      <td>CERTIFIED-WITHDRAWN</td>\n",
       "      <td>2013-01-18</td>\n",
       "      <td>2014-09-29</td>\n",
       "      <td>H-1B</td>\n",
       "      <td>2013-02-01</td>\n",
       "      <td>2016-02-01</td>\n",
       "      <td>TEXAS STATE UNIVERSITY-SAN MARCOS</td>\n",
       "      <td>601 UNIVERSITY DRIVE</td>\n",
       "      <td>SAN MARCOS</td>\n",
       "      <td>...</td>\n",
       "      <td>MO</td>\n",
       "      <td>49566.0</td>\n",
       "      <td>Year</td>\n",
       "      <td>OES</td>\n",
       "      <td>OFLC ONLINE DATA CENTER</td>\n",
       "      <td>OFLC ONLINE DATA CENTER</td>\n",
       "      <td>611310.0</td>\n",
       "      <td>50000.0</td>\n",
       "      <td>60000.0</td>\n",
       "      <td>55000.0</td>\n",
       "    </tr>\n",
       "    <tr>\n",
       "      <th>1</th>\n",
       "      <td>I-200-09162-143337</td>\n",
       "      <td>CERTIFIED</td>\n",
       "      <td>2014-03-17</td>\n",
       "      <td>2014-03-21</td>\n",
       "      <td>H-1B</td>\n",
       "      <td>2014-09-15</td>\n",
       "      <td>2017-09-15</td>\n",
       "      <td>EYE SPECIALISTS OF INDIANA, P.C.</td>\n",
       "      <td>1901 N. MERIDIAN ST.</td>\n",
       "      <td>INDIANAPOLIS</td>\n",
       "      <td>...</td>\n",
       "      <td>IN</td>\n",
       "      <td>64251.0</td>\n",
       "      <td>Year</td>\n",
       "      <td>Other</td>\n",
       "      <td>OFLC ONLINE DATA CENTER</td>\n",
       "      <td>OFLC ONLINE DATA CENTER</td>\n",
       "      <td>621320.0</td>\n",
       "      <td>65000.0</td>\n",
       "      <td>NaN</td>\n",
       "      <td>65000.0</td>\n",
       "    </tr>\n",
       "    <tr>\n",
       "      <th>2</th>\n",
       "      <td>I-200-09182-550211</td>\n",
       "      <td>DENIED</td>\n",
       "      <td>2014-03-14</td>\n",
       "      <td>2014-03-20</td>\n",
       "      <td>H-1B</td>\n",
       "      <td>2014-04-01</td>\n",
       "      <td>2015-04-01</td>\n",
       "      <td>LHB, INC.</td>\n",
       "      <td>21 WEST SUPERIOR STREET</td>\n",
       "      <td>DULUTH</td>\n",
       "      <td>...</td>\n",
       "      <td>NaN</td>\n",
       "      <td>NaN</td>\n",
       "      <td>NaN</td>\n",
       "      <td>NaN</td>\n",
       "      <td>NaN</td>\n",
       "      <td>NaN</td>\n",
       "      <td>541330.0</td>\n",
       "      <td>50000.0</td>\n",
       "      <td>NaN</td>\n",
       "      <td>50000.0</td>\n",
       "    </tr>\n",
       "    <tr>\n",
       "      <th>3</th>\n",
       "      <td>I-200-09193-873099</td>\n",
       "      <td>CERTIFIED</td>\n",
       "      <td>2014-03-01</td>\n",
       "      <td>2014-03-06</td>\n",
       "      <td>H-1B</td>\n",
       "      <td>2014-08-28</td>\n",
       "      <td>2017-08-27</td>\n",
       "      <td>WAM USA, INC.</td>\n",
       "      <td>75 BOULDERBROOK CIRCLE</td>\n",
       "      <td>LAWRENCEVILLE</td>\n",
       "      <td>...</td>\n",
       "      <td>NaN</td>\n",
       "      <td>NaN</td>\n",
       "      <td>NaN</td>\n",
       "      <td>NaN</td>\n",
       "      <td>NaN</td>\n",
       "      <td>NaN</td>\n",
       "      <td>333922.0</td>\n",
       "      <td>48000.0</td>\n",
       "      <td>NaN</td>\n",
       "      <td>48000.0</td>\n",
       "    </tr>\n",
       "    <tr>\n",
       "      <th>4</th>\n",
       "      <td>I-200-09197-120609</td>\n",
       "      <td>CERTIFIED-WITHDRAWN</td>\n",
       "      <td>2014-03-10</td>\n",
       "      <td>2014-03-17</td>\n",
       "      <td>H-1B</td>\n",
       "      <td>2014-09-01</td>\n",
       "      <td>2017-09-01</td>\n",
       "      <td>DFUSE TECHNOLOGIES, INC.</td>\n",
       "      <td>20143 DESERT FOREST DRIVE</td>\n",
       "      <td>ASHBURN</td>\n",
       "      <td>...</td>\n",
       "      <td>NaN</td>\n",
       "      <td>NaN</td>\n",
       "      <td>NaN</td>\n",
       "      <td>NaN</td>\n",
       "      <td>NaN</td>\n",
       "      <td>NaN</td>\n",
       "      <td>541519.0</td>\n",
       "      <td>62000.0</td>\n",
       "      <td>NaN</td>\n",
       "      <td>62000.0</td>\n",
       "    </tr>\n",
       "  </tbody>\n",
       "</table>\n",
       "<p>5 rows × 38 columns</p>\n",
       "</div>"
      ],
      "text/plain": [
       "      lca_case_number               status lca_case_submit decision_date  \\\n",
       "0  I-200-09106-546545  CERTIFIED-WITHDRAWN      2013-01-18    2014-09-29   \n",
       "1  I-200-09162-143337            CERTIFIED      2014-03-17    2014-03-21   \n",
       "2  I-200-09182-550211               DENIED      2014-03-14    2014-03-20   \n",
       "3  I-200-09193-873099            CERTIFIED      2014-03-01    2014-03-06   \n",
       "4  I-200-09197-120609  CERTIFIED-WITHDRAWN      2014-03-10    2014-03-17   \n",
       "\n",
       "  visa_class lca_case_employment_start_date lca_case_employment_end_date  \\\n",
       "0       H-1B                     2013-02-01                   2016-02-01   \n",
       "1       H-1B                     2014-09-15                   2017-09-15   \n",
       "2       H-1B                     2014-04-01                   2015-04-01   \n",
       "3       H-1B                     2014-08-28                   2017-08-27   \n",
       "4       H-1B                     2014-09-01                   2017-09-01   \n",
       "\n",
       "              lca_case_employer_name  lca_case_employer_address  \\\n",
       "0  TEXAS STATE UNIVERSITY-SAN MARCOS       601 UNIVERSITY DRIVE   \n",
       "1   EYE SPECIALISTS OF INDIANA, P.C.       1901 N. MERIDIAN ST.   \n",
       "2                          LHB, INC.    21 WEST SUPERIOR STREET   \n",
       "3                      WAM USA, INC.     75 BOULDERBROOK CIRCLE   \n",
       "4           DFUSE TECHNOLOGIES, INC.  20143 DESERT FOREST DRIVE   \n",
       "\n",
       "  lca_case_employer_city      ...       lca_case_workloc2_state     pw_2  \\\n",
       "0             SAN MARCOS      ...                            MO  49566.0   \n",
       "1           INDIANAPOLIS      ...                            IN  64251.0   \n",
       "2                 DULUTH      ...                           NaN      NaN   \n",
       "3          LAWRENCEVILLE      ...                           NaN      NaN   \n",
       "4                ASHBURN      ...                           NaN      NaN   \n",
       "\n",
       "  pw_unit_2 pw_source_2      other_wage_source_2          yr_source_pub_2  \\\n",
       "0      Year         OES  OFLC ONLINE DATA CENTER  OFLC ONLINE DATA CENTER   \n",
       "1      Year       Other  OFLC ONLINE DATA CENTER  OFLC ONLINE DATA CENTER   \n",
       "2       NaN         NaN                      NaN                      NaN   \n",
       "3       NaN         NaN                      NaN                      NaN   \n",
       "4       NaN         NaN                      NaN                      NaN   \n",
       "\n",
       "   lca_case_naics_code AnnualizedPay1 AnnualizedPay2  AnnualizedPay  \n",
       "0             611310.0        50000.0        60000.0        55000.0  \n",
       "1             621320.0        65000.0            NaN        65000.0  \n",
       "2             541330.0        50000.0            NaN        50000.0  \n",
       "3             333922.0        48000.0            NaN        48000.0  \n",
       "4             541519.0        62000.0            NaN        62000.0  \n",
       "\n",
       "[5 rows x 38 columns]"
      ]
     },
     "execution_count": 6,
     "metadata": {},
     "output_type": "execute_result"
    }
   ],
   "source": [
    "df['AnnualizedPay1'] = pd.to_numeric(df['lca_case_wage_rate_from'])\n",
    "df.loc[df['lca_case_wage_rate_unit'] == 'Hour', 'AnnualizedPay1'] *= 2080\n",
    "df.loc[df['lca_case_wage_rate_unit'] == 'Month', 'AnnualizedPay1'] *= 12\n",
    "df.loc[df['lca_case_wage_rate_unit'] == 'Week', 'AnnualizedPay1'] *= 52\n",
    "df.loc[df['lca_case_wage_rate_unit'] == 'Bi-Weekly', 'AnnualizedPay1'] *= 26\n",
    "df.loc[df['lca_case_wage_rate_unit'] == np.nan, 'AnnualizedPay2'] = np.nan\n",
    "df['AnnualizedPay2'] = pd.to_numeric(df['lca_case_wage_rate_to'])\n",
    "df.loc[df['lca_case_wage_rate_unit'] == 'Hour', 'AnnualizedPay2'] *=  2080\n",
    "df.loc[df['lca_case_wage_rate_unit'] == 'Month', 'AnnualizedPay2'] *= 12\n",
    "df.loc[df['lca_case_wage_rate_unit'] == 'Week', 'AnnualizedPay2'] *= 52\n",
    "df.loc[df['lca_case_wage_rate_unit'] == 'Bi-Weekly', 'AnnualizedPay2'] *= 26\n",
    "df.loc[df['lca_case_wage_rate_unit'] == np.nan, 'AnnualizedPay2'] = np.nan\n",
    "df['AnnualizedPay'] = (df[['AnnualizedPay1','AnnualizedPay2']]).mean(axis=1, skipna=True)\n",
    "\n",
    "df.head()"
   ]
  },
  {
   "cell_type": "markdown",
   "metadata": {},
   "source": [
    "I can quickly use numpy to calculate the mean and standard deviation of proposed pay for H-1B applicants in New York City vs. Mountain View. I also coudl have used pandas. For this exercise, I will only focus on primary work location."
   ]
  },
  {
   "cell_type": "code",
   "execution_count": 7,
   "metadata": {},
   "outputs": [
    {
     "name": "stdout",
     "output_type": "stream",
     "text": [
      "New York City:\n",
      "mean, stdev: (1) 185515.956366 3972779.13273\n",
      "Mountain View:\n",
      "mean, stdev: (1) 387444.61214 7643072.42869\n"
     ]
    }
   ],
   "source": [
    "print 'New York City:'\n",
    "print 'mean, stdev: (1)', np.nanmean(df.loc[df['lca_case_workloc1_city'] == 'NEW YORK', 'AnnualizedPay']), np.nanstd(df.loc[df['lca_case_workloc1_city'] == 'NEW YORK', 'AnnualizedPay'])\n",
    "print 'Mountain View:'\n",
    "print 'mean, stdev: (1)', np.nanmean(df.loc[df['lca_case_workloc1_city'] == 'MOUNTAIN VIEW', 'AnnualizedPay']), np.nanstd(df.loc[df['lca_case_workloc1_city'] == 'MOUNTAIN VIEW', 'AnnualizedPay'])"
   ]
  },
  {
   "cell_type": "markdown",
   "metadata": {},
   "source": [
    "It would appear that the proposed mean pay in New York City is much higher than those in Mountain View. However, I am a bit suspicious of the large standard deviations. I always like to visualize things before quantifying them just to develop an intuition for the data. I tried several methods of visualizations. For brevity, I do not show the visualizations that didn't work well, but mention them below:\n",
    "1. First, I want to tried making a kernal density estimate of probability density distribution of worker's pay in these two regions. These KDE plots look pretty terrible and scraggly with random peaks. This is typically indicative of a dataset with many outliers, or data that is spread very thinly. Data not shown.\n",
    "2. Next, I tried violin plots, which were really stretched too thin, again because of outliers.\n",
    "3. Finally I settled on box plots..."
   ]
  },
  {
   "cell_type": "code",
   "execution_count": 8,
   "metadata": {},
   "outputs": [
    {
     "data": {
      "image/png": "[encoded data removed]",
      "text/plain": [
       "<matplotlib.figure.Figure at 0xc345358>"
      ]
     },
     "metadata": {},
     "output_type": "display_data"
    }
   ],
   "source": [
    "ax = sns.boxplot(x=\"lca_case_workloc1_city\", y=\"AnnualizedPay\",\n",
    "                 data=df[(df['lca_case_workloc1_city'] == 'NEW YORK') | (df['lca_case_workloc1_city']=='MOUNTAIN VIEW')])\n",
    "#ax = sns.swarmplot(x=\"lca_case_workloc1_city\", y=\"AnnualizedPay\",\n",
    "#                 data=df[(df['lca_case_workloc1_city'] == 'NEW YORK') | (df['lca_case_workloc1_city']=='MOUNTAIN VIEW')])\n",
    "ax.set_title('Box Plots of Worker Pay by City')\n",
    "ax.set_ylim(0,250000)\n",
    "ax.set(xlabel='Primary Work City', ylabel='Annualized Pay')\n",
    "plt.show()"
   ]
  },
  {
   "cell_type": "markdown",
   "metadata": {},
   "source": [
    "To test whether or not the difference between these means are statistically significant, I'm going to opt for an independent two-sample t-test. I know from earlier that the samples sizes are different. I do not want to assume that the variances in New York City and Mountain View are identical because my prior knowledge about the economic drivers of these two cities are different, they may have unidentical distributions of worker's pay. Hence, Welch's t-test would be the most appropriate t-test.\n",
    "\n",
    "Within the scipy, Welch's t-test is computed by setting the \"equal_var\" keyword to False within the \"ttest_ind\" function."
   ]
  },
  {
   "cell_type": "code",
   "execution_count": 9,
   "metadata": {},
   "outputs": [
    {
     "name": "stdout",
     "output_type": "stream",
     "text": [
      "t-statistic:  -1.88421208785\n",
      "p-value:  0.0595862751329\n"
     ]
    }
   ],
   "source": [
    "from scipy.stats import ttest_ind\n",
    "# https://docs.scipy.org/doc/scipy/reference/generated/scipy.stats.ttest_ind.html\n",
    "Welchs = ttest_ind(df.loc[(df['lca_case_workloc1_city'] == 'NEW YORK'), 'AnnualizedPay'], \n",
    "                   df.loc[(df['lca_case_workloc1_city'] == 'MOUNTAIN VIEW'), 'AnnualizedPay'], \n",
    "                   equal_var=False)\n",
    "print 't-statistic: ', Welchs.statistic\n",
    "print 'p-value: ', Welchs.pvalue"
   ]
  },
  {
   "cell_type": "markdown",
   "metadata": {},
   "source": [
    "We have a high p-value (high typically meaning higher than 0.05 or 0.1), which suggests that we can not reject the null hypothesis. Therefore the differences in pay between New York City and Mountain View are not statistically significant!"
   ]
  },
  {
   "cell_type": "markdown",
   "metadata": {},
   "source": [
    "To understand the relationship between visas requested and average wage proposed, I think a simple ordinary least squares regression will do. I'll first do one qualitatively in seaborn to get an intuition for the data, and then run a fit that produces numbers using statsmodels. \n",
    "\n",
    "I decided to investigate this problem in two ways, since the wording was ambiguous to me. This is because the same employer can appear over multiple rows within this dataset. In the first regression, I forego grouping by employer, while in the second I perform the grouping of employers over all the rows. "
   ]
  },
  {
   "cell_type": "code",
   "execution_count": 10,
   "metadata": {},
   "outputs": [
    {
     "data": {
      "image/png": "[encoded data removed]",
      "text/plain": [
       "<matplotlib.figure.Figure at 0x1680d198>"
      ]
     },
     "metadata": {},
     "output_type": "display_data"
    },
    {
     "data": {
      "image/png": "[encoded data removed]",
      "text/plain": [
       "<matplotlib.figure.Figure at 0x182a7710>"
      ]
     },
     "metadata": {},
     "output_type": "display_data"
    }
   ],
   "source": [
    "ax = sns.regplot(df.loc[df['lca_case_workloc1_city'] == 'NEW YORK', 'total_workers'], \n",
    "                 df.loc[df['lca_case_workloc1_city'] == 'NEW YORK', 'AnnualizedPay'])\n",
    "ax.set_title('Worker pay vs. Requests (not grouped)')\n",
    "ax.set(xlabel='Total Workers', ylabel='Annualized Pay')\n",
    "ax.set_ylim(0,250000)\n",
    "plt.show()\n",
    "\n",
    "ax = sns.regplot(df[df['lca_case_workloc1_city'] == 'NEW YORK'].groupby('lca_case_employer_name')['total_workers'].sum(), \n",
    "                 df[df['lca_case_workloc1_city'] == 'NEW YORK'].groupby('lca_case_employer_name')['AnnualizedPay'].sum())\n",
    "ax.set_title('Worker pay vs. Requests (grouped)')\n",
    "ax.set(xlabel='Total Workers', ylabel='Annualized Pay')\n",
    "plt.show()"
   ]
  },
  {
   "cell_type": "markdown",
   "metadata": {},
   "source": [
    "It looks like there is some sort of relationship between number of employees. Qualitatively, it doesn't look like a great fit, but let's put some numbers to it. An ordinary least squares regression (OLS) might just do the trick, and is availible in sci-kit learn or statsmodels. Personally, I prefer the statsmodels toolkit because it gives you control over the design matrices, and provides more statistical measures for me to evaluate (with an output similar to R), but they should provide the same fit result."
   ]
  },
  {
   "cell_type": "code",
   "execution_count": 11,
   "metadata": {},
   "outputs": [
    {
     "name": "stderr",
     "output_type": "stream",
     "text": [
      "C:\\ProgramData\\Anaconda2\\lib\\site-packages\\statsmodels\\compat\\pandas.py:56: FutureWarning: The pandas.core.datetools module is deprecated and will be removed in a future version. Please use the pandas.tseries module instead.\n",
      "  from pandas.core import datetools\n"
     ]
    },
    {
     "name": "stdout",
     "output_type": "stream",
     "text": [
      "                            OLS Regression Results                            \n",
      "==============================================================================\n",
      "Dep. Variable:          total_workers   R-squared:                       0.000\n",
      "Model:                            OLS   Adj. R-squared:                 -0.000\n",
      "Method:                 Least Squares   F-statistic:                  0.008994\n",
      "Date:                Sun, 20 Aug 2017   Prob (F-statistic):              0.924\n",
      "Time:                        23:00:02   Log-Likelihood:                -96691.\n",
      "No. Observations:               32068   AIC:                         1.934e+05\n",
      "Df Residuals:                   32066   BIC:                         1.934e+05\n",
      "Df Model:                           1                                         \n",
      "Covariance Type:            nonrobust                                         \n",
      "==============================================================================\n",
      "                 coef    std err          t      P>|t|      [0.025      0.975]\n",
      "------------------------------------------------------------------------------\n",
      "x1         -6.578e-10   6.94e-09     -0.095      0.924   -1.43e-08    1.29e-08\n",
      "const          1.7591      0.028     63.767      0.000       1.705       1.813\n",
      "==============================================================================\n",
      "Omnibus:                    56641.919   Durbin-Watson:                   1.936\n",
      "Prob(Omnibus):                  0.000   Jarque-Bera (JB):         63122269.317\n",
      "Skew:                          12.790   Prob(JB):                         0.00\n",
      "Kurtosis:                     218.840   Cond. No.                     3.98e+06\n",
      "==============================================================================\n",
      "\n",
      "Warnings:\n",
      "[1] Standard Errors assume that the covariance matrix of the errors is correctly specified.\n",
      "[2] The condition number is large, 3.98e+06. This might indicate that there are\n",
      "strong multicollinearity or other numerical problems.\n",
      "                            OLS Regression Results                            \n",
      "==============================================================================\n",
      "Dep. Variable:          total_workers   R-squared:                       0.015\n",
      "Model:                            OLS   Adj. R-squared:                  0.015\n",
      "Method:                 Least Squares   F-statistic:                     130.6\n",
      "Date:                Sun, 20 Aug 2017   Prob (F-statistic):           4.99e-30\n",
      "Time:                        23:00:02   Log-Likelihood:                -49687.\n",
      "No. Observations:                8526   AIC:                         9.938e+04\n",
      "Df Residuals:                    8524   BIC:                         9.939e+04\n",
      "Df Model:                           1                                         \n",
      "Covariance Type:            nonrobust                                         \n",
      "==============================================================================\n",
      "                 coef    std err          t      P>|t|      [0.025      0.975]\n",
      "------------------------------------------------------------------------------\n",
      "x1          1.194e-06   1.05e-07     11.428      0.000     9.9e-07     1.4e-06\n",
      "const          5.7823      0.893      6.475      0.000       4.032       7.533\n",
      "==============================================================================\n",
      "Omnibus:                    26425.920   Durbin-Watson:                   1.852\n",
      "Prob(Omnibus):                  0.000   Jarque-Bera (JB):       3075215089.349\n",
      "Skew:                          47.603   Prob(JB):                         0.00\n",
      "Kurtosis:                    2943.649   Cond. No.                     8.57e+06\n",
      "==============================================================================\n",
      "\n",
      "Warnings:\n",
      "[1] Standard Errors assume that the covariance matrix of the errors is correctly specified.\n",
      "[2] The condition number is large, 8.57e+06. This might indicate that there are\n",
      "strong multicollinearity or other numerical problems.\n"
     ]
    }
   ],
   "source": [
    "import statsmodels.api as sm\n",
    "# Note the swap of X and y compared to sci-kit learn conventions!\n",
    "model = sm.OLS(df.loc[df['lca_case_workloc1_city'] == 'NEW YORK', 'total_workers'], \n",
    "               np.vander(df.loc[df['lca_case_workloc1_city'] == 'NEW YORK', 'AnnualizedPay'],2))\n",
    "results = model.fit()\n",
    "print results.summary()\n",
    "\n",
    "model = sm.OLS(df[df['lca_case_workloc1_city'] == 'NEW YORK'].groupby('lca_case_employer_name')['total_workers'].sum(), \n",
    "               np.vander(df[df['lca_case_workloc1_city'] == 'NEW YORK'].groupby('lca_case_employer_name')['AnnualizedPay'].sum(),2))\n",
    "results = model.fit()\n",
    "print results.summary()"
   ]
  },
  {
   "cell_type": "markdown",
   "metadata": {},
   "source": [
    "Depending on how we approach the problem, we get different results:\n",
    "1. When we don't group by employers we have a low R-squared on the fit, and a very high p-value (> 0.05) on the explanatory variable (total workers). This means the model doesn't explain much of the variation, and that total workers is not a significant indicator of proposed pay.\n",
    "\n",
    "1. On the other hand, when we group by employers, we have a low R-squared on the fit, and a low p-value on the explanatory variable (total workers). This means the model doesn't explain much of the variation, but the relationship between total workers and proposed pay is significant!\n"
   ]
  },
  {
   "cell_type": "markdown",
   "metadata": {},
   "source": [
    "Next I wondered what questions this dataset can answer. I got a feel for the socio-political issues and concerns surrounding the visa program by reading the (wikipedia page)[https://en.wikipedia.org/wiki/H-1B_visa]. Some quesions I thought of are below. \n",
    "\n",
    "\n",
    "1. Is there really a labor shortage to fill?\n",
    "    - Given the current poltical climate and debate about restricting H-1B's, this is probbably the most interesting question for me. Of the ideas brainstormed here, this is the least doable because it woule require a lot of additional datasets that are not readily availible. \n",
    "    - I would need information about the rate of job growth by occupation, with matching SOC codes, and information about how many employees are attaining credentials that make them eligible for these occupations. Creating relationships between these two hypothetical datasets would be difficult even if they existed because we would also have to attain a mapping of qualifying credentials for each occupation (a simplistic example is that a practicing physician can have either an M.D. or a D.O.).\n",
    "    - From here, a linear model could work well. We can do just one regression using a linear mixed model (such as GLMM) to consider the hierarchical nature of this data. \n",
    "\n",
    "2. Which H-1B applicants will eventually elect to acquire permanent immigrant status?\n",
    "    - This would require additional datasets outside of the one used for this data challenge. Namely, there is a dataset for this on [Enigma Public](https://public.enigma.com/datasets/permanent-visa-applications-2014/f3d32c4d-42ba-4c26-9e72-66fc88b1f7e4?&filter=%2B%5B%3E%5Bpermanent%20visa%202014%5D%5D) which outlines a visa holder's . However, the case numbers don't appear to match up between these two datasets (LCA Case Numbers and Case Numbers).\n",
    "    - In addition, the statuses in the H-1B application dataset only specify if the application is \"certified\", which is actually a prerequisite to H-1B approval, rather than approval itself. Meaning that even if the case numbers matched between the two datasets, there would still be this disconnect.\n",
    "    - If the data were availible, various classification methods, such as k-Nearest Neighbors, random forest, or gradient boosted trees (within sci-kit learn or xgboost) can be engineered to identify H-1B holders likely to apply for permanent status.\n",
    "\n",
    "3. Can we identify willful violators of the regulations surrounding the H-1B program?\n",
    "    - This would require the willfull violators dataset in Enigma Public\n",
    "    - Though not shown in this notebook, I found that only a couple willful violators appear in the 2014 dataset. Thus with the data limited we might not be able to find any meaningful indicators.\n",
    "\n",
    "4. Is there a racial bias in attaining 'Certified' status? What about biases in occupation or income levels?\n",
    "    - This would require the dataset to contain the country of origin. In this dataset however, the only specified countries are those with special visa classes (Australia, Chile, and Singapore).\n",
    "    - To understand this, we can look at differing statuses by country, but would also have to consider the breakdown of occupations that might be specific to the country of origin. Again, this data is hierarchal so a mixed model might be appropriate. \n",
    "\n",
    "5. What features in general are indicative of a positive outcome?\n",
    "    - There are many techniques that would provide feature importances. For example, this problem can be framed as a two-class classification problem. Many applicable decision trees (such as a random forest classifier as provided in sci-kit learn as well as extreme gradient boosted trees as implemenmted in xgboost) can provide feature importances. If the solution requires a continuous outcome, we can perform a logistic regression on this problem. As with any basic regression method, we can determine which features are important using stepwise regression or similar techniques. In Python, this is called an F-regression or recursive feature elimination in sci-kit learn. \n",
    "    - However, majority of the outcomes are positive (almost all of the applications are 'Certified'), which makes this a less interesting direction for me. \n",
    "\n",
    "6. There was a ('Trump Effect' on green card applications)[http://www.npr.org/2017/02/21/516375460/green-card-holders-worry-about-trump-s-efforts-to-curtain-immigration], where applications spiked because of post-election political uncertainties. Was there a 'Trump Effect' on H-1B applications as well? Is there general seasonality with presidential elections?\n",
    "    - To explore this, we would need to produce a time-series of H-1B applications, and their outcomes. This is possible since Enigma Public provides similar datasets as that use earlier in this notebook (I imagine it may just require simple filtering to eliminate duplicates, I never checked). \n",
    "    - Within Enigma Public, we have data from 2007-2016, so this is entrely feasible.  \n",
    "    - Basically, this problem boils down to a problem of event (or novelty or outlier) detection. There are several methods for detecting events on a time series (Kalman filtering, ARIMA modeling and variants thereof, moving average analysis, classification). Most of these methods rely on defining some range (for example, 2.5 standard deviations away from the moving average of the time series) which requires debate and input from those with domain knowledge.\n",
    "\n",
    "7. The US offers several programs specifically tailored to certain foreign nationals as part of certain free trade treaties (E-3's for Australians and H-1B1's for Singaporeans and Chileans). Does the dataset reflect any advantage these applicants have  \n",
    "    - I was interested in this because of a [Gothamist article(http://gothamist.com/2014/06/09/australians_everywhere.php) that wondered why there are a lot of Australians in New York City. They attribute this to the visa leniency. Though Singapore and Chile also benefit from similar programs I was wondering why we don't see many Singaporeans and Chileans (and yes, they are smaller countries, but we would see a proportional amount perhaps).\n",
    "    - I could look at survival (or duration) analysis to decision time to gauge of their visas are expdited.\n",
    "    - We can also investigate the distribution of occupations between these cohorts, liklihood of approval, etc.\n",
    "\n",
    "8. Some critics of the H-1B program claim that it is leveraged for unfair [wage depression](https://en.wikipedia.org/wiki/H-1B_visa#Wage_depression). Is there any evidence for this?\n",
    "    - An additional dataset that might be required would be one that contains the distributions of worker's wages\n",
    "    - This will require an analysis on pay distributions between H-1B holders and a national dataset of some form\n",
    "    - I chose to address this question, and there is more discussion on this in Section 3. "
   ]
  },
  {
   "cell_type": "markdown",
   "metadata": {},
   "source": [
    "I was particularly interested in investigating the extend of wage depression in H-1B applicants relative to the industry mean. I am choosing to not consider the prevailing wages in this dataset because critics of the H-1B visa program claim that employers have too much [control over defining the prevailing wage](), and can use them as a method to depress wages. \n",
    "\n",
    "First, I want to inspect proposed wages by major division of SOC codes because some of the background reading I've done suggests that wage depression [may affect certain fields more acutely]() than others. [SOC codes are formatted](https://www.bls.gov/soc/soc_structure_2010.pdf) such that the first two numbers represent a major group of occupations (ranging from 11 to 50, odd numbers), followed by a hyphen and 4 digits, representing minor groupings which offer specific information on the occupation. \n",
    "\n",
    "To investigate the presence of wage depression, I want to look at distributions of proposed pay. My reasoning is that if wages are depressed, we might see significant skew in this distribution. Skewness is defined as an asymmetry in a probability distribution function (illustrated below). In the case of widespread wage depression, one might expect positive skew (left-leaning).\n",
    "\n",
    "![alt text](https://upload.wikimedia.org/wikipedia/commons/thumb/f/f8/Negative_and_positive_skew_diagrams_%28English%29.svg/669px-Negative_and_positive_skew_diagrams_%28English%29.svg.png)\n",
    "\n",
    "First, I inspect the SOC occupation codes to see if there were any anomalies or cleaning that I need to do. Within the cell below, I comment some suspicious entries for conciseness."
   ]
  },
  {
   "cell_type": "code",
   "execution_count": 12,
   "metadata": {},
   "outputs": [
    {
     "data": {
      "text/plain": [
       "array(['19-1029', '29-1041', '27-2011', ..., '53-1021', '51-4011',\n",
       "       '27-1023'], dtype=object)"
      ]
     },
     "execution_count": 12,
     "metadata": {},
     "output_type": "execute_result"
    }
   ],
   "source": [
    "df['lca_case_soc_code'].unique()\n",
    "# very suspicious:\n",
    "# 1933-11-01, 2011-11-01, 2022-11-01, 1999-11-01, 1961-11-01, 2013-11-01, 1971-11-01, 1951-11-01, 1931-11-01, \n",
    "# 1941-11-01, 2021-11-01, 1131, 2, nan, \n",
    "# less suspicious, but noteworthy:\n",
    "# 119121, 1501121, 291066, 291051, 151031, 252021, 291127, 151132, 151131, 2911123, 291063,\n",
    "# 151121, 191021, 131161, 131161, 151142, 112021, 291069, 151199, 291062, 172072, 1702141, 271011, \n",
    "# 273091, 292011, 291122, 192031, 132011, 151133, 152031, 131081, 151141, 113021, 291131, 172141, 192032, \n",
    "# 251022, 351011, 172071, 171012, 113061, 132051, 111021, 152041, 151150, 191042, 113031"
   ]
  },
  {
   "cell_type": "markdown",
   "metadata": {},
   "source": [
    "It seems I need to do a little but of cleaning using a bit of judgement. I am suspicious of the entries whose codes don't begin with two digits. There are others who dont follow the xx-xxxx.xx format of the SOC Code. I am less suspicious of some of these as it seems they either forego the dash in place of a '/', '.', '0', or nothing quite systematically. I am highly suspicious of codes whos first two numbers comprise an even number, since all SOC major codes are odd numbers. "
   ]
  },
  {
   "cell_type": "code",
   "execution_count": 13,
   "metadata": {
    "collapsed": true
   },
   "outputs": [],
   "source": [
    "df = df[(df['lca_case_soc_code'] != '1933-11-01') & \n",
    "        (df['lca_case_soc_code'] != '2011-11-01') & \n",
    "        (df['lca_case_soc_code'] != '2022-11-01') & \n",
    "        (df['lca_case_soc_code'] != '1999-11-01') & \n",
    "        (df['lca_case_soc_code'] != '1961-11-01') &\n",
    "        (df['lca_case_soc_code'] != '2013-11-01') &\n",
    "        (df['lca_case_soc_code'] != '1971-11-01') &\n",
    "        (df['lca_case_soc_code'] != '1951-11-01') &\n",
    "        (df['lca_case_soc_code'] != '1931-11-01') &\n",
    "        (df['lca_case_soc_code'] != '1941-11-01') &\n",
    "        (df['lca_case_soc_code'] != '2021-11-01') &\n",
    "        (df['lca_case_soc_code'] != '1131') &\n",
    "        (df['lca_case_soc_code'] != '2') &\n",
    "        (df['lca_case_soc_code'] != 'nan')] "
   ]
  },
  {
   "cell_type": "markdown",
   "metadata": {},
   "source": [
    "Now, calculating the skew of worker's pay grouped by SOC major code is pretty straightforward as pandas has a built in method for calculating the bias-corrected (aka, unbiased) skewness."
   ]
  },
  {
   "cell_type": "code",
   "execution_count": 14,
   "metadata": {},
   "outputs": [
    {
     "name": "stdout",
     "output_type": "stream",
     "text": [
      "SOC_trunc\n",
      "15    506.610337\n",
      "13    215.813886\n",
      "17     92.394472\n",
      "25     77.065651\n",
      "29     62.048028\n",
      "19     55.877686\n",
      "41     52.886273\n",
      "11     51.667737\n",
      "27     51.275664\n",
      "23     44.050713\n",
      "45     11.356047\n",
      "43      9.651750\n",
      "21      8.119929\n",
      "51      4.782200\n",
      "53      2.449403\n",
      "39      1.982467\n",
      "47      1.840307\n",
      "35      1.395846\n",
      "37      1.385441\n",
      "31      1.126126\n",
      "33      1.065934\n",
      "49      0.748293\n",
      "Name: AnnualizedPay, dtype: float64\n"
     ]
    }
   ],
   "source": [
    "df['SOC_trunc'] = [str(x)[0:2] for x in df['lca_case_soc_code']]\n",
    "df = df[(df['SOC_trunc'] != '14') & \n",
    "        (df['SOC_trunc'] != '24') & \n",
    "        (df['SOC_trunc'] != '60') & \n",
    "        (df['SOC_trunc'] != 'na')]\n",
    "print df.groupby('SOC_trunc')['AnnualizedPay'].skew(skipna=True).sort_values(ascending=False)"
   ]
  },
  {
   "cell_type": "markdown",
   "metadata": {},
   "source": [
    "Skew, as calculated by pandas, is the bias-corrected skew. On this scale, it is generally considered that a skew between $\\pm$1 is considered mildly skewed, while anything above is considered heavily skewed. I notice that all fields have positive skew, with most occupations echibiting significant skew!\n",
    "\n",
    "To get an intuition for these skewness values, I'm going to quickly plot a kernel density estimate of SOC Code 15 (Computer and Mathematical Operations, heavily skewed) and SOC Code 33 (Protective Service Occupations, slightly skewed)"
   ]
  },
  {
   "cell_type": "code",
   "execution_count": 15,
   "metadata": {},
   "outputs": [
    {
     "data": {
      "image/png": "[encoded data removed]",
      "text/plain": [
       "<matplotlib.figure.Figure at 0xc367b70>"
      ]
     },
     "metadata": {},
     "output_type": "display_data"
    }
   ],
   "source": [
    "ax = sns.kdeplot(df.loc[(df['SOC_trunc'] == '15') & (df['AnnualizedPay'] < 150000), 'AnnualizedPay'])\n",
    "ax = sns.kdeplot(df.loc[(df['SOC_trunc'] == '33') & (df['AnnualizedPay'] < 150000), 'AnnualizedPay'])\n",
    "ax.set_title('PDF of Worker Pay for SOC Major Class 15 (Blue) and 33 (Green)')\n",
    "ax.set(xlabel='Annualized Pay', ylabel='Frequency')\n",
    "plt.show()"
   ]
  },
  {
   "cell_type": "markdown",
   "metadata": {},
   "source": [
    "The observed skews should be compared with skews in wage distributions nationally. \n",
    "\n",
    "Because BLS doesn't offer wage information by SOC codes more granularly than quantiles, I'm going to have to re-evaluate how I approach. One can actually also calculate skewness using quantiles, called Bowley's Skewness. \n",
    "\n",
    "$ \\mathrm{BowleySkewness} = \\frac{Q_1 + Q_3 - 2Q_2}{Q_3 - Q_1} $\n",
    "\n",
    "which ranges from $[0, 1)$ with zero indicating no skew and maximumly skewed as the measure approaches one. Next, I wanted to make sure that the unbiased skewnesses were also reflected in the medians and quantiles of worker's pay by major SOC code."
   ]
  },
  {
   "cell_type": "code",
   "execution_count": 16,
   "metadata": {},
   "outputs": [
    {
     "data": {
      "image/png": "[encoded data removed]",
      "text/plain": [
       "<matplotlib.figure.Figure at 0x14ddb2e8>"
      ]
     },
     "metadata": {},
     "output_type": "display_data"
    }
   ],
   "source": [
    "temp = df.copy()\n",
    "temp = temp[(temp['SOC_trunc'] != '14') & (temp['SOC_trunc'] != '24') & (temp['SOC_trunc'] != '60') & (temp['SOC_trunc'] != 'na')]\n",
    "ax = sns.boxplot(x=\"SOC_trunc\", y=\"AnnualizedPay\", data=temp)\n",
    "ax.set_title('Box Plots of Pay Medians and Quantiles by SOC Major Code for H-1B Applicants')\n",
    "ax.set(xlabel='SOC Major Code', ylabel='Frequency')\n",
    "ax.set_ylim(0,250000)\n",
    "plt.show() "
   ]
  },
  {
   "cell_type": "markdown",
   "metadata": {},
   "source": [
    "These box plots reveal that quantiles can still capture the skewness. I can extract the quantiles using pandas. Let's start by looking at Major Group 15 subset of our dataset. First, I'll write a quick function that can return Bowley's skewnesses from quantiles."
   ]
  },
  {
   "cell_type": "code",
   "execution_count": 17,
   "metadata": {},
   "outputs": [
    {
     "name": "stdout",
     "output_type": "stream",
     "text": [
      "quantiles of SOC Major Group 15 (Computer and Mathematical):\n",
      "Bowleys Skewness H1B:  0.335167447864     ...positive skew\n"
     ]
    }
   ],
   "source": [
    "def quantileskew(quantiles, source):\n",
    "    if (quantiles[3] - quantiles[2]) > (quantiles[2] - quantiles[1]):\n",
    "        status = '...positive skew'\n",
    "    else:\n",
    "        status = '...negative skew'\n",
    "    print 'Bowleys Skewness ' + source + ': ', ((quantiles[3] + quantiles[1] - 2.*(quantiles[2])) / \n",
    "                                   (quantiles[3] - quantiles[1])), '    ' + status\n",
    "\n",
    "print 'quantiles of SOC Major Group 15 (Computer and Mathematical):'\n",
    "quantiles = temp.loc[temp['SOC_trunc'] == '15', 'AnnualizedPay'].quantile([0.1,0.25,0.5,0.75,0.9])\n",
    "quantileskew(quantiles.values, 'H1B')"
   ]
  },
  {
   "cell_type": "markdown",
   "metadata": {},
   "source": [
    "From the BLS, we get the quantiles for SOC major group 15 as well, from which we can compute Bowley's skewness. For now, these are just copy pasted from the [BLS website](https://www.bls.gov/oes/2014/may/oes_stru.htm)."
   ]
  },
  {
   "cell_type": "code",
   "execution_count": 18,
   "metadata": {},
   "outputs": [
    {
     "name": "stdout",
     "output_type": "stream",
     "text": [
      "quantiles of SOC Major Group 15 (Computer and Mathematical) Continued:\n",
      "Bowleys Skewness BLS:  0.0892531876138     ...positive skew\n"
     ]
    }
   ],
   "source": [
    "# SOC Code 15 (), 2014\n",
    "print 'quantiles of SOC Major Group 15 (Computer and Mathematical) Continued:'\n",
    "quantiles = [41130., 56920., 79420., 106330., 134500.]\n",
    "quantileskew(quantiles, 'BLS')"
   ]
  },
  {
   "cell_type": "markdown",
   "metadata": {},
   "source": [
    "For computer and mathematical jobs, we see that the national pay distribution has small skew, while that for H-1B applicants have a significant skew! This is evidence of wage depression (at least for computer and mathematical workers)!\n",
    "\n",
    "Next I wondered how skewnesses compare for other SOC major codes. Specifically, I looked at some other fields that exhibited high skew:\n",
    "1. 21: 'Community and Social Service Occupations'\n",
    "1. 29: 'Healthcare Practitioners and Technical Occupations'\n",
    "\n",
    "and some that exhibit only mild skew:\n",
    "1. 33: 'Protective Service Occupations'\n",
    "1. 49: 'Installation, Maintenance, and Repair Workers'"
   ]
  },
  {
   "cell_type": "code",
   "execution_count": 19,
   "metadata": {},
   "outputs": [
    {
     "name": "stdout",
     "output_type": "stream",
     "text": [
      "quantiles of SOC Major Group 21 (Community and Social Service Occupations):\n",
      "Bowleys Skewness H1B:  0.150746268657     ...positive skew\n",
      "Bowleys Skewness BLS:  0.195219123506     ...positive skew\n",
      "quantiles of SOC Major Group 29 (Healthcare Practitioners and Technical Occupations):\n",
      "Bowleys Skewness H1B:  0.512602499828     ...positive skew\n",
      "Bowleys Skewness BLS:  0.189890710383     ...positive skew\n",
      "quantiles of SOC Major Group 33 (Protective Service Occupations):\n",
      "Bowleys Skewness H1B:  0.455704957494     ...positive skew\n",
      "Bowleys Skewness BLS:  0.226495726496     ...positive skew\n",
      "quantiles of SOC Major Group 49 (Installation, Maintenance, and Repair Workers):\n",
      "Bowleys Skewness H1B:  0.0989010989011     ...positive skew\n",
      "Bowleys Skewness BLS:  0.146472392638     ...positive skew\n"
     ]
    }
   ],
   "source": [
    "# SOC Code 21 (Community and Social Service Occupations), 2014\n",
    "print 'quantiles of SOC Major Group 21 (Community and Social Service Occupations):'\n",
    "quantiles = temp.loc[temp['SOC_trunc'] == '21', 'AnnualizedPay'].quantile([0.1,0.25,0.5,0.75,0.9])\n",
    "quantileskew(quantiles.values, 'H1B')\n",
    "quantiles = [23990., 31190., 41290., 56290., 73250.]\n",
    "quantileskew(quantiles, 'BLS')\n",
    "\n",
    "# SOC Code 29 (Healthcare Practitioners and Technical Occupation), 2014\n",
    "print 'quantiles of SOC Major Group 29 (Healthcare Practitioners and Technical Occupations):'\n",
    "quantiles = temp.loc[temp['SOC_trunc'] == '29', 'AnnualizedPay'].quantile([0.1,0.25,0.5,0.75,0.9])\n",
    "quantileskew(quantiles.values, 'H1B')\n",
    "quantiles = [31570., 43920., 61710., 87840., 133600.]\n",
    "quantileskew(quantiles, 'BLS')\n",
    "\n",
    "# SOC Code 33 (Protective Service Occupations), 2014\n",
    "print 'quantiles of SOC Major Group 33 (Protective Service Occupations):'\n",
    "quantiles = temp.loc[temp['SOC_trunc'] == '33', 'AnnualizedPay'].quantile([0.1,0.25,0.5,0.75,0.9])\n",
    "quantileskew(quantiles.values, 'H1B')\n",
    "quantiles = [19090., 24510., 37180., 57270., 80360.]\n",
    "quantileskew(quantiles, 'BLS')\n",
    "\n",
    "# SOC Code 49 (Installation, Maintenance, and Repair Workers), 2014\n",
    "print 'quantiles of SOC Major Group 49 (Installation, Maintenance, and Repair Workers):'\n",
    "quantiles = temp.loc[temp['SOC_trunc'] == '49', 'AnnualizedPay'].quantile([0.1,0.25,0.5,0.75,0.9])\n",
    "quantileskew(quantiles.values, 'H1B')\n",
    "quantiles = [23220., 30980., 42110., 57060., 72560.]\n",
    "quantileskew(quantiles, 'BLS')"
   ]
  },
  {
   "cell_type": "markdown",
   "metadata": {},
   "source": [
    "I notice that (at least for the ones I've tested), the skews are all positive, which is a nice feature since it agrees with the all positive skewnesses we calculated using the unbiased estimator. This makes sense given that most occupations are not management heavy, and thus I might expect pay distributions to be more likely positively skewed than not. \n",
    "\n",
    "Comparing the skews between the H-1B applicant dataset and BLS data shows some interesting patterns. Al the major code occupations (asides from one) exhibit more skewness in the H-1B dataset than the BLS, the exception being Social Service occupations.\n",
    "\n",
    "In theory, one could perform this for all the major codes by building a webscraper to mine the quantiles from the BLS website. For me however, it would take a bit more time to build my first web scraper than would be allotted by the time constraint. This would allow us to develop a model for identifying occupations that are more likely to engage in wage depression.\n",
    "\n",
    "Some interesting directions include developing a model for flagging possible companies that are engaging in wage depression. This would ideally incorporate BLS data, so we can get more detailed probability distribution functions (PDF) of proposed pay for each occupation. One possible direction to creating these flags is to identify companies along portions of the PDF in the H-1B dataset that do not overlap with that for the BLS dataset. "
   ]
  },
  {
   "cell_type": "code",
   "execution_count": null,
   "metadata": {
    "collapsed": true
   },
   "outputs": [],
   "source": []
  }
 ],
 "metadata": {
  "kernelspec": {
   "display_name": "Python 2",
   "language": "python",
   "name": "python2"
  },
  "language_info": {
   "codemirror_mode": {
    "name": "ipython",
    "version": 2
   },
   "file_extension": ".py",
   "mimetype": "text/x-python",
   "name": "python",
   "nbconvert_exporter": "python",
   "pygments_lexer": "ipython2",
   "version": "2.7.13"
  }
 },
 "nbformat": 4,
 "nbformat_minor": 2
}
